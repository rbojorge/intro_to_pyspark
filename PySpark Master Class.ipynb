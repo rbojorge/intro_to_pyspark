{
 "cells": [
  {
   "cell_type": "markdown",
   "metadata": {
    "application/vnd.databricks.v1+cell": {
     "cellMetadata": {},
     "inputWidgets": {},
     "nuid": "2b3bc23e-9c6b-4bbc-b0b5-74b34bfe83ea",
     "showTitle": false,
     "tableResultSettingsMap": {},
     "title": ""
    }
   },
   "source": [
    "# Data Reading"
   ]
  },
  {
   "cell_type": "code",
   "execution_count": 0,
   "metadata": {
    "application/vnd.databricks.v1+cell": {
     "cellMetadata": {
      "byteLimit": 2048000,
      "rowLimit": 10000
     },
     "inputWidgets": {},
     "nuid": "7a9b2f89-bafe-431f-8094-a7f12fd81ada",
     "showTitle": true,
     "tableResultSettingsMap": {},
     "title": "Loading BigMart Sales Data"
    }
   },
   "outputs": [],
   "source": [
    "df = (\n",
    "    spark.read\n",
    "        .format(\"csv\")\n",
    "        .option(\"inferSchema\", True)\n",
    "        .option(\"header\", True)\n",
    "        .load(\"/Volumes/dev/bjorn/raw/BigMart Sales.csv\")\n",
    ")"
   ]
  },
  {
   "cell_type": "code",
   "execution_count": 0,
   "metadata": {
    "application/vnd.databricks.v1+cell": {
     "cellMetadata": {
      "byteLimit": 2048000,
      "rowLimit": 10000
     },
     "inputWidgets": {},
     "nuid": "654b477b-c707-429b-8f02-8534b7799e82",
     "showTitle": false,
     "tableResultSettingsMap": {},
     "title": ""
    }
   },
   "outputs": [],
   "source": [
    "df.display()"
   ]
  },
  {
   "cell_type": "code",
   "execution_count": 0,
   "metadata": {
    "application/vnd.databricks.v1+cell": {
     "cellMetadata": {
      "byteLimit": 2048000,
      "rowLimit": 10000
     },
     "inputWidgets": {},
     "nuid": "7b5c0ef4-33e0-4337-8cc1-e3fe0a58bc7e",
     "showTitle": true,
     "tableResultSettingsMap": {},
     "title": "Loading JSON Data into Spark DataFrame"
    }
   },
   "outputs": [],
   "source": [
    "df_json = (\n",
    "    spark.read\n",
    "        .format(\"json\")\n",
    "        .option(\"inferSchema\", True)\n",
    "        .option(\"header\", True)\n",
    "        .option(\"multiline\", False)\n",
    "        .load(\"/Volumes/dev/bjorn/raw/drivers.json\")\n",
    ")"
   ]
  },
  {
   "cell_type": "code",
   "execution_count": 0,
   "metadata": {
    "application/vnd.databricks.v1+cell": {
     "cellMetadata": {
      "byteLimit": 2048000,
      "rowLimit": 10000
     },
     "inputWidgets": {},
     "nuid": "9bdea716-722f-45e0-aa6a-f4e28448e0af",
     "showTitle": false,
     "tableResultSettingsMap": {},
     "title": ""
    }
   },
   "outputs": [],
   "source": [
    "df_json.display()"
   ]
  },
  {
   "cell_type": "code",
   "execution_count": 0,
   "metadata": {
    "application/vnd.databricks.v1+cell": {
     "cellMetadata": {},
     "inputWidgets": {},
     "nuid": "604bbcd8-c24e-416d-a01d-501f92091d12",
     "showTitle": false,
     "tableResultSettingsMap": {},
     "title": ""
    }
   },
   "outputs": [],
   "source": []
  }
 ],
 "metadata": {
  "application/vnd.databricks.v1+notebook": {
   "computePreferences": null,
   "dashboards": [],
   "environmentMetadata": {
    "base_environment": "",
    "environment_version": "2"
   },
   "inputWidgetPreferences": null,
   "language": "python",
   "notebookMetadata": {
    "pythonIndentUnit": 4
   },
   "notebookName": "PySpark Master Class",
   "widgets": {}
  },
  "language_info": {
   "name": "python"
  }
 },
 "nbformat": 4,
 "nbformat_minor": 0
}
